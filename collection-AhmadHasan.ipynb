{
 "cells": [
  {
   "cell_type": "code",
   "execution_count": 2,
   "metadata": {},
   "outputs": [
    {
     "name": "stdout",
     "output_type": "stream",
     "text": [
      "{'item': {'type': 'uri', 'value': 'http://www.wikidata.org/entity/Q27978235'}, 'creator': {'type': 'uri', 'value': 'http://www.wikidata.org/entity/Q705079'}, 'copyright': {'type': 'uri', 'value': 'http://www.wikidata.org/entity/Q19652'}, 'image': {'type': 'uri', 'value': 'http://commons.wikimedia.org/wiki/Special:FilePath/Francesco%20da%20Ponte%2C%20gen.%20Francesco%20Bassano%20-%20Sommer%20%28Opferung%20Isaaks%29%20-%20GG%204302%20-%20Kunsthistorisches%20Museum.jpg'}, 'itemLabel': {'xml:lang': 'en', 'type': 'literal', 'value': 'Summer (with Sacrifice of Isaac)'}, 'creatorLabel': {'xml:lang': 'en', 'type': 'literal', 'value': 'Francesco Bassano the Younger'}, 'copyrightLabel': {'xml:lang': 'en', 'type': 'literal', 'value': 'public domain'}, 'inceptionyear': {'datatype': 'http://www.w3.org/2001/XMLSchema#integer', 'type': 'literal', 'value': '1575'}}\n",
      "{'item': {'type': 'uri', 'value': 'http://www.wikidata.org/entity/Q27978238'}, 'creator': {'type': 'uri', 'value': 'http://www.wikidata.org/entity/Q705079'}, 'copyright': {'type': 'uri', 'value': 'http://www.wikidata.org/entity/Q19652'}, 'image': {'type': 'uri', 'value': 'http://commons.wikimedia.org/wiki/Special:FilePath/Francesco%20da%20Ponte%2C%20gen.%20Francesco%20Bassano%20-%20Herbst%20%28Moses%20empf%C3%A4ngt%20die%20Gesetzestafeln%29%20-%20GG%204304%20-%20Kunsthistorisches%20Museum.jpg'}, 'itemLabel': {'xml:lang': 'en', 'type': 'literal', 'value': 'Autumn with Moses receiving the Ten Commandments'}, 'creatorLabel': {'xml:lang': 'en', 'type': 'literal', 'value': 'Francesco Bassano the Younger'}, 'copyrightLabel': {'xml:lang': 'en', 'type': 'literal', 'value': 'public domain'}, 'inceptionyear': {'datatype': 'http://www.w3.org/2001/XMLSchema#integer', 'type': 'literal', 'value': '1575'}}\n",
      "{'item': {'type': 'uri', 'value': 'http://www.wikidata.org/entity/Q27978239'}, 'creator': {'type': 'uri', 'value': 'http://www.wikidata.org/entity/Q705079'}, 'copyright': {'type': 'uri', 'value': 'http://www.wikidata.org/entity/Q19652'}, 'image': {'type': 'uri', 'value': 'http://commons.wikimedia.org/wiki/Special:FilePath/Francesco%20da%20Ponte%2C%20gen.%20Francesco%20Bassano%20-%20Verspottung%20Christi%20-%20GG%205810%20-%20Kunsthistorisches%20Museum.jpg'}, 'itemLabel': {'xml:lang': 'en', 'type': 'literal', 'value': 'Mocking of Christ'}, 'creatorLabel': {'xml:lang': 'en', 'type': 'literal', 'value': 'Francesco Bassano the Younger'}, 'copyrightLabel': {'xml:lang': 'en', 'type': 'literal', 'value': 'public domain'}, 'inceptionyear': {'datatype': 'http://www.w3.org/2001/XMLSchema#integer', 'type': 'literal', 'value': '1577'}}\n",
      "{'item': {'type': 'uri', 'value': 'http://www.wikidata.org/entity/Q27978241'}, 'creator': {'type': 'uri', 'value': 'http://www.wikidata.org/entity/Q705079'}, 'copyright': {'type': 'uri', 'value': 'http://www.wikidata.org/entity/Q19652'}, 'image': {'type': 'uri', 'value': 'http://commons.wikimedia.org/wiki/Special:FilePath/Francesco%20da%20Ponte%2C%20gen.%20Francesco%20Bassano%20-%20Bildnis%20eines%20b%C3%A4rtigen%20Mannes%20mit%20Sanduhr%20und%20Astrolabium%20-%20GG%205775%20-%20Kunsthistorisches%20Museum.jpg'}, 'itemLabel': {'xml:lang': 'en', 'type': 'literal', 'value': 'Portrait of man with sun clock and astrolabium'}, 'creatorLabel': {'xml:lang': 'en', 'type': 'literal', 'value': 'Francesco Bassano the Younger'}, 'copyrightLabel': {'xml:lang': 'en', 'type': 'literal', 'value': 'public domain'}, 'inceptionyear': {'datatype': 'http://www.w3.org/2001/XMLSchema#integer', 'type': 'literal', 'value': '1580'}}\n",
      "{'item': {'type': 'uri', 'value': 'http://www.wikidata.org/entity/Q27978242'}, 'creator': {'type': 'uri', 'value': 'http://www.wikidata.org/entity/Q705079'}, 'copyright': {'type': 'uri', 'value': 'http://www.wikidata.org/entity/Q19652'}, 'image': {'type': 'uri', 'value': 'http://commons.wikimedia.org/wiki/Special:FilePath/Francesco%20da%20Ponte%2C%20gen.%20Francesco%20Bassano%20-%20Jahrmarkt%20-%20GG%204319%20-%20Kunsthistorisches%20Museum.jpg'}, 'itemLabel': {'type': 'literal', 'value': 'Q27978242'}, 'creatorLabel': {'xml:lang': 'en', 'type': 'literal', 'value': 'Francesco Bassano the Younger'}, 'copyrightLabel': {'xml:lang': 'en', 'type': 'literal', 'value': 'public domain'}, 'inceptionyear': {'datatype': 'http://www.w3.org/2001/XMLSchema#integer', 'type': 'literal', 'value': '1582'}}\n",
      "{'item': {'type': 'uri', 'value': 'http://www.wikidata.org/entity/Q27978244'}, 'creator': {'type': 'uri', 'value': 'http://www.wikidata.org/entity/Q705079'}, 'copyright': {'type': 'uri', 'value': 'http://www.wikidata.org/entity/Q19652'}, 'image': {'type': 'uri', 'value': 'http://commons.wikimedia.org/wiki/Special:FilePath/Francesco%20da%20Ponte%2C%20gen.%20Francesco%20Bassano%20-%20Winter%20%28Schweineschlachten%29%20-%20GG%204288%20-%20Kunsthistorisches%20Museum.jpg'}, 'itemLabel': {'type': 'literal', 'value': 'Q27978244'}, 'creatorLabel': {'xml:lang': 'en', 'type': 'literal', 'value': 'Francesco Bassano the Younger'}, 'copyrightLabel': {'xml:lang': 'en', 'type': 'literal', 'value': 'public domain'}, 'inceptionyear': {'datatype': 'http://www.w3.org/2001/XMLSchema#integer', 'type': 'literal', 'value': '1587'}}\n",
      "{'item': {'type': 'uri', 'value': 'http://www.wikidata.org/entity/Q27978246'}, 'creator': {'type': 'uri', 'value': 'http://www.wikidata.org/entity/Q705079'}, 'copyright': {'type': 'uri', 'value': 'http://www.wikidata.org/entity/Q19652'}, 'image': {'type': 'uri', 'value': 'http://commons.wikimedia.org/wiki/Special:FilePath/Francesco%20da%20Ponte%2C%20gen.%20Francesco%20Bassano%20-%20Sommer%20%28Juni%2C%20Juli%2C%20August%29%20-%20GG%204289%20-%20Kunsthistorisches%20Museum.jpg'}, 'itemLabel': {'xml:lang': 'en', 'type': 'literal', 'value': 'Summer (June, July, August)'}, 'creatorLabel': {'xml:lang': 'en', 'type': 'literal', 'value': 'Francesco Bassano the Younger'}, 'copyrightLabel': {'xml:lang': 'en', 'type': 'literal', 'value': 'public domain'}, 'inceptionyear': {'datatype': 'http://www.w3.org/2001/XMLSchema#integer', 'type': 'literal', 'value': '1590'}}\n",
      "{'item': {'type': 'uri', 'value': 'http://www.wikidata.org/entity/Q27978247'}, 'creator': {'type': 'uri', 'value': 'http://www.wikidata.org/entity/Q705079'}, 'copyright': {'type': 'uri', 'value': 'http://www.wikidata.org/entity/Q19652'}, 'image': {'type': 'uri', 'value': 'http://commons.wikimedia.org/wiki/Special:FilePath/Francesco%20da%20Ponte%2C%20gen.%20Francesco%20Bassano%20-%20Herbst%20%28Weinlese%29%20-%20GG%204287%20-%20Kunsthistorisches%20Museum.jpg'}, 'itemLabel': {'type': 'literal', 'value': 'Q27978247'}, 'creatorLabel': {'xml:lang': 'en', 'type': 'literal', 'value': 'Francesco Bassano the Younger'}, 'copyrightLabel': {'xml:lang': 'en', 'type': 'literal', 'value': 'public domain'}, 'inceptionyear': {'datatype': 'http://www.w3.org/2001/XMLSchema#integer', 'type': 'literal', 'value': '1587'}}\n",
      "{'item': {'type': 'uri', 'value': 'http://www.wikidata.org/entity/Q27978248'}, 'creator': {'type': 'uri', 'value': 'http://www.wikidata.org/entity/Q705079'}, 'copyright': {'type': 'uri', 'value': 'http://www.wikidata.org/entity/Q19652'}, 'image': {'type': 'uri', 'value': 'http://commons.wikimedia.org/wiki/Special:FilePath/Francesco%20da%20Ponte%2C%20gen.%20Francesco%20Bassano%20-%20Herkules%20und%20Omphale%20-%20GG%203575%20-%20Kunsthistorisches%20Museum.jpg'}, 'itemLabel': {'type': 'literal', 'value': 'Q27978248'}, 'creatorLabel': {'xml:lang': 'en', 'type': 'literal', 'value': 'Francesco Bassano the Younger'}, 'copyrightLabel': {'xml:lang': 'en', 'type': 'literal', 'value': 'public domain'}, 'inceptionyear': {'datatype': 'http://www.w3.org/2001/XMLSchema#integer', 'type': 'literal', 'value': '1587'}}\n",
      "{'item': {'type': 'uri', 'value': 'http://www.wikidata.org/entity/Q27978249'}, 'creator': {'type': 'uri', 'value': 'http://www.wikidata.org/entity/Q705079'}, 'copyright': {'type': 'uri', 'value': 'http://www.wikidata.org/entity/Q19652'}, 'image': {'type': 'uri', 'value': 'http://commons.wikimedia.org/wiki/Special:FilePath/Francesco%20da%20Ponte%2C%20gen.%20Francesco%20Bassano%20-%20Anbetung%20der%20K%C3%B6nige%20-%20GG%205801%20-%20Kunsthistorisches%20Museum.jpg'}, 'itemLabel': {'xml:lang': 'en', 'type': 'literal', 'value': 'Adoration of the Magi'}, 'creatorLabel': {'xml:lang': 'en', 'type': 'literal', 'value': 'Francesco Bassano the Younger'}, 'copyrightLabel': {'xml:lang': 'en', 'type': 'literal', 'value': 'public domain'}, 'inceptionyear': {'datatype': 'http://www.w3.org/2001/XMLSchema#integer', 'type': 'literal', 'value': '1589'}}\n",
      "{'item': {'type': 'uri', 'value': 'http://www.wikidata.org/entity/Q27978253'}, 'creator': {'type': 'uri', 'value': 'http://www.wikidata.org/entity/Q705079'}, 'copyright': {'type': 'uri', 'value': 'http://www.wikidata.org/entity/Q19652'}, 'image': {'type': 'uri', 'value': 'http://commons.wikimedia.org/wiki/Special:FilePath/Francesco%20da%20Ponte%2C%20gen.%20Francesco%20Bassano%20-%20Wunder%20aus%20der%20Quelle%20von%20Mara%20-%20GG%204300%20-%20Kunsthistorisches%20Museum.jpg'}, 'itemLabel': {'type': 'literal', 'value': 'Q27978253'}, 'creatorLabel': {'xml:lang': 'en', 'type': 'literal', 'value': 'Francesco Bassano the Younger'}, 'copyrightLabel': {'xml:lang': 'en', 'type': 'literal', 'value': 'public domain'}, 'inceptionyear': {'datatype': 'http://www.w3.org/2001/XMLSchema#integer', 'type': 'literal', 'value': '1590'}}\n",
      "{'item': {'type': 'uri', 'value': 'http://www.wikidata.org/entity/Q27978258'}, 'creator': {'type': 'uri', 'value': 'http://www.wikidata.org/entity/Q286685'}, 'copyright': {'type': 'uri', 'value': 'http://www.wikidata.org/entity/Q19652'}, 'image': {'type': 'uri', 'value': 'http://commons.wikimedia.org/wiki/Special:FilePath/Jacopo%20da%20Ponte%2C%20gen.%20Jacopo%20Bassano%20-%20Moses%20schl%C3%A4gt%20Wasser%20aus%20dem%20Felsen%20-%20GG%204305%20-%20Kunsthistorisches%20Museum.jpg'}, 'itemLabel': {'type': 'literal', 'value': 'Q27978258'}, 'creatorLabel': {'xml:lang': 'en', 'type': 'literal', 'value': 'Girolamo da Ponte'}, 'copyrightLabel': {'xml:lang': 'en', 'type': 'literal', 'value': 'public domain'}, 'inceptionyear': {'datatype': 'http://www.w3.org/2001/XMLSchema#integer', 'type': 'literal', 'value': '1584'}}\n",
      "{'item': {'type': 'uri', 'value': 'http://www.wikidata.org/entity/Q27978260'}, 'creator': {'type': 'uri', 'value': 'http://www.wikidata.org/entity/Q286685'}, 'copyright': {'type': 'uri', 'value': 'http://www.wikidata.org/entity/Q19652'}, 'image': {'type': 'uri', 'value': 'http://commons.wikimedia.org/wiki/Special:FilePath/Gerolamo%20da%20Ponte%2C%20gen.%20Gerolamo%20Bassano%20-%20Jakob%20am%20Brunnen%20-%20GG%204307%20-%20Kunsthistorisches%20Museum.jpg'}, 'itemLabel': {'type': 'literal', 'value': 'Q27978260'}, 'creatorLabel': {'xml:lang': 'en', 'type': 'literal', 'value': 'Girolamo da Ponte'}, 'copyrightLabel': {'xml:lang': 'en', 'type': 'literal', 'value': 'public domain'}, 'inceptionyear': {'datatype': 'http://www.w3.org/2001/XMLSchema#integer', 'type': 'literal', 'value': '1584'}}\n",
      "{'item': {'type': 'uri', 'value': 'http://www.wikidata.org/entity/Q27978261'}, 'creator': {'type': 'uri', 'value': 'http://www.wikidata.org/entity/Q286685'}, 'copyright': {'type': 'uri', 'value': 'http://www.wikidata.org/entity/Q19652'}, 'image': {'type': 'uri', 'value': 'http://commons.wikimedia.org/wiki/Special:FilePath/Gerolamo%20da%20Ponte%2C%20gen.%20Gerolamo%20Bassano%20-%20Aufbruch%20Abrahams%20ins%20gelobte%20Land%20-%20GG%204301%20-%20Kunsthistorisches%20Museum.jpg'}, 'itemLabel': {'type': 'literal', 'value': 'Q27978261'}, 'creatorLabel': {'xml:lang': 'en', 'type': 'literal', 'value': 'Girolamo da Ponte'}, 'copyrightLabel': {'xml:lang': 'en', 'type': 'literal', 'value': 'public domain'}, 'inceptionyear': {'datatype': 'http://www.w3.org/2001/XMLSchema#integer', 'type': 'literal', 'value': '1584'}}\n",
      "{'item': {'type': 'uri', 'value': 'http://www.wikidata.org/entity/Q27978262'}, 'creator': {'type': 'uri', 'value': 'http://www.wikidata.org/entity/Q286685'}, 'copyright': {'type': 'uri', 'value': 'http://www.wikidata.org/entity/Q19652'}, 'image': {'type': 'uri', 'value': 'http://commons.wikimedia.org/wiki/Special:FilePath/Gerolamo%20da%20Ponte%2C%20gen.%20Gerolamo%20Bassano%20-%20Grablegung%20Christi%20-%20GG%204312%20-%20Kunsthistorisches%20Museum.jpg'}, 'itemLabel': {'type': 'literal', 'value': 'Q27978262'}, 'creatorLabel': {'xml:lang': 'en', 'type': 'literal', 'value': 'Girolamo da Ponte'}, 'copyrightLabel': {'xml:lang': 'en', 'type': 'literal', 'value': 'public domain'}, 'inceptionyear': {'datatype': 'http://www.w3.org/2001/XMLSchema#integer', 'type': 'literal', 'value': '1585'}}\n"
     ]
    }
   ],
   "source": [
    "# pip install sparqlwrapper\n",
    "# https://rdflib.github.io/sparqlwrapper/\n",
    "\n",
    "import sys\n",
    "from SPARQLWrapper import SPARQLWrapper, JSON\n",
    "from PIL import Image\n",
    "import requests\n",
    "\n",
    "endpoint_url = \"https://query.wikidata.org/sparql\"\n",
    "\n",
    "query = \"\"\"#Paintings in the Kunsthistorisches Museum\n",
    "#defaultView:ImageGrid\n",
    "SELECT ?item ?itemLabel ?inceptionyear ?creator ?creatorLabel ?copyright ?copyrightLabel ?image\n",
    "WHERE\n",
    "{\n",
    " ?item wdt:P31 wd:Q3305213 .\n",
    "  ?item wdt:P195 wd:Q95569 .\n",
    "   ?item wdt:P170 ?creator .\n",
    "  ?item wdt:P18 ?image .\n",
    "  ?item wdt:P6216 ?copyright . \n",
    "  {\n",
    "    ?item wdt:P571 ?inception.\n",
    "    BIND(YEAR(?inception) AS ?inceptionyear)\n",
    "  }\n",
    "\n",
    "  FILTER((1400  <= ?inceptionyear) && (?inceptionyear < 1700 ))\n",
    "  SERVICE wikibase:label { bd:serviceParam wikibase:language \"en\". } }\n",
    "LIMIT 15\"\"\"\n",
    "\n",
    "\n",
    "def get_results(endpoint_url, query):\n",
    "    user_agent = \"WDQS-example Python/%s.%s\" % (sys.version_info[0], sys.version_info[1])\n",
    "    # TODO adjust user agent; see https://w.wiki/CX6\n",
    "    sparql = SPARQLWrapper(endpoint_url, agent=user_agent)\n",
    "    sparql.setQuery(query)\n",
    "    sparql.setReturnFormat(JSON)\n",
    "    return sparql.query().convert()\n",
    "\n",
    "\n",
    "results = get_results(endpoint_url, query)\n",
    "\n",
    "for result in results[\"results\"][\"bindings\"]:\n",
    "    print(result)\n",
    "\n"
   ]
  }
 ],
 "metadata": {
  "kernelspec": {
   "display_name": "Python 3",
   "language": "python",
   "name": "python3"
  },
  "language_info": {
   "codemirror_mode": {
    "name": "ipython",
    "version": 3
   },
   "file_extension": ".py",
   "mimetype": "text/x-python",
   "name": "python",
   "nbconvert_exporter": "python",
   "pygments_lexer": "ipython3",
   "version": "3.9.2"
  },
  "orig_nbformat": 4
 },
 "nbformat": 4,
 "nbformat_minor": 2
}
